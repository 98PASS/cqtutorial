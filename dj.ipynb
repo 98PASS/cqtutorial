{
 "cells": [
  {
   "cell_type": "markdown",
   "metadata": {},
   "source": [
    "# O Algoritmo Deutsch-Jozsa"
   ]
  },
  {
   "cell_type": "markdown",
   "metadata": {},
   "source": [
    "### Autores:\n",
    "###### Paulo Sérgio Ribeiro\n",
    "###### Pedro Antônio de Souza Silva"
   ]
  },
  {
   "cell_type": "markdown",
   "metadata": {},
   "source": [
    "## Uma Breve História:"
   ]
  },
  {
   "cell_type": "markdown",
   "metadata": {},
   "source": [
    "David Deutsch propôs um algoritmo quantico (Algoritmo de Deutsch, apenas) que determinava se uma função $f:\\mathbb{B} \\rightarrow \\mathbb{B}$ era constante ou balanceada, o detalhe adicional que formou o algoritmo de Deutsch-Jozsa foi justamente a contribuição de Richard Jozsa (um dos coinventores do teletransporte quântico de informação), que notou que era possível manter a propriedade do algoritmo para além do caso $\\mathbb{B} \\rightarrow \\mathbb{B}$ , provando ser aplicável em   $f:\\mathbb{B^n} \\rightarrow \\mathbb{B}$ "
   ]
  },
  {
   "cell_type": "markdown",
   "metadata": {},
   "source": [
    "## Explicação Matemática:"
   ]
  },
  {
   "cell_type": "markdown",
   "metadata": {},
   "source": [
    "Segundo o circuito, temos:\n",
    "\n",
    "$$\n",
    "|\\psi_0\\rangle = |0\\rangle^{\\otimes n}|1\\rangle\n",
    "$$\n",
    "\n",
    "<br>\n",
    "\n",
    "Onde $|0\\rangle^{\\otimes n}$ representa um vetor de 0s ($|0...0\\rangle$). Agora, aplicamos Hadamard neste vetor:\n",
    "\n",
    "<br>\n",
    "\n",
    "$$\n",
    "H^{\\otimes n} |0\\rangle = \\frac{1}{\\sqrt{2^n}}\\sum_{x}|x\\rangle\n",
    "$$\n",
    "\n",
    "<br>\n",
    "\n",
    "Fazendo o mesmo com $|1\\rangle$, colocamos todos os qubits da entrada em superposição, obtendo assim:\n",
    "\n",
    "$$\n",
    "|\\psi_1\\rangle = \\frac{1}{\\sqrt{2^n}}\\sum_{x}|x\\rangle \\frac{[|0\\rangle - |1\\rangle]}{\\sqrt{2}}\n",
    "$$\n",
    "\n",
    "<br>\n",
    "\n",
    "Agora, $U_{f}$ entra em ação, que devolve:\n",
    "\n",
    "$$\n",
    "|\\psi_2\\rangle = \\frac{1}{\\sqrt{2^n}}\\sum_{x}(-1)^{f(x)}|x\\rangle \\frac{[|0\\rangle - |1\\rangle]}{\\sqrt{2}}\n",
    "$$\n",
    "\n",
    "<br>\n",
    "\n",
    "Para finalizar, aplicamos Hadamard novamente ao vetor de bits do topo, assim:\n",
    "\n",
    "$$\n",
    "|\\psi_3\\rangle = \\frac{1}{\\sqrt{2^n}}\\sum_{x}(-1)^{f(x)}H^{\\otimes n}|x\\rangle \\frac{[|0\\rangle - |1\\rangle]}{\\sqrt{2}}\n",
    "$$\n",
    "\n",
    "<br>\n",
    "\n",
    "Como os bits do vetor $|x\\rangle$ já se encontram em superposição, quando o aplicamos novamente, obtemos\n",
    "\n",
    "$$\n",
    "H^{\\otimes n}|x\\rangle = \\frac{1}{\\sqrt{2^n}}\\sum_{z}(-1)^{<x,z>}|z\\rangle\n",
    "$$\n",
    "\n",
    "<br>\n",
    "\n",
    "Uma superposição de uma superposição!\n",
    "\n",
    "Juntando tudo, enfim ficamos com:\n",
    "\n",
    "$$\n",
    "|\\psi_3\\rangle = \\frac{1}{\\sqrt{2^n}}\\sum_{x}(-1)^{f(x)}\\sum_{z}\\frac{1}{\\sqrt{2^n}}(-1)^{<x,z>}|z\\rangle \\frac{[|0\\rangle - |1\\rangle]}{\\sqrt{2}}\n",
    "$$\n",
    "\n",
    "<br>\n",
    "\n",
    "Rearranjando:\n",
    "\n",
    "$$\n",
    "|\\psi_3\\rangle = \\frac{1}{2^n}\\sum_{z}\\sum_{x}(-1)^{f(x) \\ \\oplus\\ <x,z>}|z\\rangle \\frac{[|0\\rangle - |1\\rangle]}{\\sqrt{2}}\n",
    "$$\n",
    "\n",
    "<br>\n"
   ]
  },
  {
   "cell_type": "markdown",
   "metadata": {},
   "source": [
    "## Importações Úteis"
   ]
  },
  {
   "cell_type": "code",
   "execution_count": 1,
   "execution_count": 2,
   "metadata": {},
   "outputs": [],
   "source": [
    "import numpy as np\n",
    "from qiskit import QuantumCircuit\n",
    "from qiskit import ClassicalRegister\n",
    "from qiskit import QuantumRegister\n",
    "from qiskit import execute\n",
    "from qiskit.tools.visualization import circuit_drawer\n",
    "from qiskit.tools.visualization import plot_histogram"
   ]
  },
  {
   "cell_type": "markdown",
   "metadata": {},
   "source": [
    "## Exemplo Simulado em um Computador Clásssico"
   ]
  },
  {
   "cell_type": "code",
   "execution_count": 26,
   "metadata": {},
   "outputs": [
    {
     "name": "stderr",
     "output_type": "stream",
     "text": [
      "WARNING: Unable to compile latex. Is `pdflatex` installed? Skipping latex circuit drawing...\n"
     ]
    },
    {
     "data": {
      "image/png": "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\n",
      "text/plain": [
       "<Figure size 602x379.26 with 1 Axes>"
      ]
     },
     "metadata": {},
     "output_type": "display_data"
    }
   ],
   "source": [
    "#Criação de um registrador quântico com 3 qubits\n",
    "q = QuantumRegister(3, 'q')\n",
    "\n",
    "#Criação de um circuito quântico agindo no registrador q\n",
    "circuito = QuantumCircuit(q)\n",
    "\n",
    "#Criação de um circuito clássico com 3 bits\n",
    "c = ClassicalRegister(3, 'c')\n",
    "\n",
    "#Criação de um circuito quântico\n",
    "quant = QuantumCircuit(q, c)\n",
    "#quant.barrier(q)\n",
    "\n",
    "#Aplicamos Hadamard em todos os bits do topo\n",
    "for bit in range(2):\n",
    "    quant.h(q[bit])\n",
    "\n",
    "#Mudamos a fase do bit de baixo para 1\n",
    "quant.x(q[2])\n",
    "quant.h(q[2])\n",
    "\n",
    "quant.barrier(q)\n",
    "\n",
    "#Aplicamos a função\n",
    "for bit in range(2):\n",
    "    quant.cx(q[bit], q[2])\n",
    "    \n",
    "quant.barrier(q)\n",
    "\n",
    "#Aplicamos Hadamard novamente nos bits do topo\n",
    "for bit in range(2):\n",
    "    quant.h(q[bit])\n",
    "\n",
    "quant.barrier(q)\n",
    "\n",
    "#Mapeamento da medição dos qubits para os bits clássicos\n",
    "for bit in range(2):\n",
    "    quant.measure(q[bit], c[bit])\n",
    "\n",
    "quant.barrier(q)\n",
    "#quant.measure(q, c)\n",
    "\n",
    "qc = circuito + quant\n",
    "\n",
    "circuit_drawer(qc)"
   ]
  },
  {
   "cell_type": "markdown",
   "metadata": {},
   "source": [
    "## Exemplo Real:"
   ]
  },
  {
   "cell_type": "markdown",
   "metadata": {},
   "source": [
    "Primeiro, verificamos quais os computadores que estão disponíveis:"
   ]
  },
  {
   "cell_type": "code",
   "execution_count": 3,
   "metadata": {},
    {
     "data": {
      "text/plain": [
       "[<IBMQBackend('ibmqx4') from IBMQ()>,\n",
       " <IBMQBackend('ibmqx5') from IBMQ()>,\n",
       " <IBMQBackend('ibmqx2') from IBMQ()>,\n",
       " <IBMQBackend('ibmq_16_melbourne') from IBMQ()>,\n",
       " <IBMQBackend('ibmq_qasm_simulator') from IBMQ()>]"
      ]
     },
     "execution_count": 3,
     "metadata": {},
     "output_type": "execute_result"
    }
   ],
   "source": [
    "from qiskit import IBMQ\n",
    "#IBMQ.save_account()\n",
    "IBMQ.load_accounts()\n",
    "print(\"Backends disponíveis:\")\n",
    "IBMQ.backends()"
   ]
  },
  {
   "cell_type": "markdown",
   "metadata": {},
   "source": [
    "O tempo de espera de uma simulação em um computador quântico real pode ser desconfortavelmente grande. A fila para acessar um deles pode estar imensa em dado momento. Uma opção de minimizar o tempo de espera é importarmos a função 'least_busy', que verifica qual dos backends atuais estão menos ocupados."
   ]
  },
  {
   "cell_type": "code",
   "execution_count": 4,
   "metadata": {},
   "outputs": [
    {
     "name": "stdout",
     "output_type": "stream",
     "text": [
      "O melhor é ibmqx4\n"
     ]
    }
   ],
   "source": [
    "from qiskit.backends.ibmq import least_busy\n",
    "\n",
    "dispositivo = IBMQ.backends(filters = lambda x: x.configuration()['n_qubits'] > 3 and not x.configuration()['simulator'])\n",
    "\n",
    "backend = least_busy(dispositivo)\n",
    "\n",
    "print(\"O melhor é \" + backend.name())"
   ]
  },
  {
   "cell_type": "markdown",
   "metadata": {},
   "source": [
    "Sabendo qual deles está menos ocupado no momento, salvamos essa informação em uma variável - aqui a nomeamos $backend$ - para, enfim, rodarmos nossa simulação em um computador quântico real."
   ]
  },
  {
   "cell_type": "code",
   "execution_count": 13,
   "metadata": {},
   "outputs": [
    {
     "data": {
      "image/png": "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\n",
      "text/plain": [
       "<Figure size 432x288 with 1 Axes>"
      ]
     },
     "metadata": {},
     "output_type": "display_data"
    }
   ],
   "source": [
    "rodadas = 1000\n",
    "creditos = 3\n",
    "tarefa = execute(qc, backend = backend, shots = rodadas, max_credits = creditos)\n",
    "\n",
    "resultado = tarefa.result()\n",
    "contador = resultado.get_counts(qc)\n",
    "\n",
    "plot_histogram(contador)"
   ]
  },
  {
   "cell_type": "markdown",
   "metadata": {},
   "source": [
    "## Conclusão:"
   ]
  },
  {
   "cell_type": "markdown",
   "metadata": {},
   "source": [
    "Se fizermos a medição e obtivermos apenas um vetor de 0s $|000...0\\rangle$, significa que a função é constante. Caso contrário, será balanceada.\n",
    "\n",
    "<br>"
   ]
  }
 ],
 "metadata": {
  "kernelspec": {
   "display_name": "Python 3",
   "language": "python",
   "name": "python3"
  },
  "language_info": {
   "codemirror_mode": {
    "name": "ipython",
    "version": 3
   },
   "file_extension": ".py",
   "mimetype": "text/x-python",
   "name": "python",
   "nbconvert_exporter": "python",
   "pygments_lexer": "ipython3",
   "version": "3.6.5"
  }
 },
 "nbformat": 4,
 "nbformat_minor": 1
}
