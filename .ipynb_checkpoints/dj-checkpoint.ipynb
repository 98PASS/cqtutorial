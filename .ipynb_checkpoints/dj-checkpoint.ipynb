{
 "cells": [
  {
   "cell_type": "markdown",
   "metadata": {},
   "source": [
    "# O Algoritmo Deutsch-Jozsa"
   ]
  },
  {
   "cell_type": "markdown",
   "metadata": {},
   "source": [
    "### Autores:\n",
    "###### Paulo Sérgio Ribeiro\n",
    "###### Pedro Antônio de Souza Silva"
   ]
  },
  {
   "cell_type": "markdown",
   "metadata": {},
   "source": [
    "## Uma Breve História:"
   ]
  },
  {
   "cell_type": "markdown",
   "metadata": {},
   "source": [
    "David Deutsch propôs um algoritmo quantico (Algoritmo de Deutsch, apenas) que determinava se uma função $f:\\mathbb{B} \\rightarrow \\mathbb{B}$ era constante ou balanceada, o detalhe adicional que formou o algoritmo de Deutsch-Jozsa foi justamente a contribuição de Richard Jozsa (Um dos coinventores do teleporte quântico de informação), que notou que era possível manter a propriedade do algoritmo para além do caso $\\mathbb{B} \\rightarrow \\mathbb{B}$ , provando ser aplicável em   $f:\\mathbb{B^n} \\rightarrow \\mathbb{B}$ "
   ]
  },
  {
   "cell_type": "markdown",
   "metadata": {},
   "source": [
    "## Explicação Teórica e Matemática:"
   ]
  },
  {
   "cell_type": "markdown",
   "metadata": {},
   "source": [
    "Segundo o circuito, temos:\n",
    "\n",
    "$$\n",
    "|\\psi_0\\rangle = |0\\rangle^{\\otimes^n}|1\\rangle\n",
    "$$\n",
    "\n",
    "<br>\n",
    "\n",
    "Chamemos o vetor de 0s de $|x\\rangle$. Aplicando Hadamard aos $n$ bits desse vetor, ficamos com:\n",
    "\n",
    "$$\n",
    "H^{\\otimes^n} |x\\rangle = \\frac{1}{\\sqrt{2^n}}\\sum_{x}|x\\rangle\n",
    "$$\n",
    "\n",
    "<br>\n",
    "\n",
    "Fazendo o mesmo com $|1\\rangle$, colocamos todos os qubits da entrada em superposição, obtendo assim:\n",
    "\n",
    "$$\n",
    "|\\psi_1\\rangle = \\frac{1}{\\sqrt{2^n}}\\sum_{x}|x\\rangle \\frac{[|0\\rangle - |1\\rangle]}{\\sqrt{2}}\n",
    "$$\n",
    "\n",
    "<br>\n",
    "\n",
    "Agora, $U_{f}$ entra em ação, que devolve:\n",
    "\n",
    "$$\n",
    "|\\psi_2\\rangle = \\frac{1}{\\sqrt{2^n}}\\sum_{x}(-1)^{f(x)}|x\\rangle \\frac{[|0\\rangle - |1\\rangle]}{\\sqrt{2}}\n",
    "$$\n",
    "\n",
    "<br>\n",
    "\n",
    "Para finalizar, aplicamos Hadamard novamente ao vetor de bits do topo, assim:\n",
    "\n",
    "$$\n",
    "|\\psi_3\\rangle = \\frac{1}{\\sqrt{2^n}}\\sum_{x}(-1)^{f(x)}H^{\\otimes^n}|x\\rangle \\frac{[|0\\rangle - |1\\rangle]}{\\sqrt{2}}\n",
    "$$\n",
    "\n",
    "<br>\n",
    "\n",
    "Como os bits do vetor $|x\\rangle$ já se encontram em superposição, quando o aplicamos novamente, obtemos\n",
    "\n",
    "$$\n",
    "\\frac{1}{\\sqrt{2^n}}\\sum_{z}(-1)^{<x,z>}|z\\rangle\n",
    "$$\n",
    "\n",
    "<br>\n",
    "\n",
    "Uma superposição de uma superposição!\n",
    "\n",
    "Juntando tudo, enfim ficamos com:\n",
    "\n",
    "$$\n",
    "|\\psi_3\\rangle = \\frac{1}{\\sqrt{2^n}}\\sum_{x}(-1)^{f(x)}\\sum_{z}\\frac{1}{\\sqrt{2^n}}(-1)^{<x,z>}|z\\rangle \\frac{[|0\\rangle - |1\\rangle]}{\\sqrt{2}}\n",
    "$$\n",
    "\n",
    "<br>\n",
    "\n",
    "Rearranjando:\n",
    "\n",
    "$$\n",
    "|\\psi_3\\rangle = \\frac{1}{2^n}\\sum_{z}\\sum_{x}(-1)^{f(x) + <x,z>}|z\\rangle \\frac{[|0\\rangle - |1\\rangle]}{\\sqrt{2}}\n",
    "$$\n",
    "\n",
    "<br>\n"
   ]
  },
  {
   "cell_type": "markdown",
   "metadata": {},
   "source": [
    "## Importações Úteis"
   ]
  },
  {
   "cell_type": "code",
   "execution_count": 30,
   "metadata": {},
   "outputs": [],
   "source": [
    "import numpy as np\n",
    "from qiskit import QuantumCircuit\n",
    "from qiskit import ClassicalRegister\n",
    "from qiskit import QuantumRegister\n",
    "from qiskit import execute\n",
    "from qiskit.tools.visualization import circuit_drawer\n",
    "from qiskit.tools.visualization import plot_histogram"
   ]
  },
  {
   "cell_type": "markdown",
   "metadata": {},
   "source": [
    "## Exemplo Simulado em um Computador Clásssico"
   ]
  },
  {
   "cell_type": "code",
   "execution_count": 59,
   "metadata": {},
   "outputs": [
    {
     "name": "stderr",
     "output_type": "stream",
     "text": [
      "WARNING: Unable to compile latex. Is `pdflatex` installed? Skipping latex circuit drawing...\n"
     ]
    },
    {
     "data": {
      "image/png": "[encoded data removed]",
      "text/plain": [
       "<Figure size 361.2x379.26 with 1 Axes>"
      ]
     },
     "metadata": {},
     "output_type": "display_data"
    }
   ],
   "source": [
    "#Criação de um registro quântico com 3 bits\n",
    "q = QuantumRegister(3, 'q')\n",
    "\n",
    "#Criação de um circuito quântico agindo no registro q\n",
    "circuito = QuantumCircuit(q)\n",
    "\n",
    "#Criação de um circuito clássico com 3 bits\n",
    "c = ClassicalRegister(3, 'c')\n",
    "\n",
    "#Criação de um circuito quântico\n",
    "quant = QuantumCircuit(q, c)\n",
    "quant.barrier(q)\n",
    "\n",
    "#Mapeamento da medição dos qubits para os bits clássicos\n",
    "quant.measure(q, c)\n",
    "\n",
    "qc = circuito + quant\n",
    "\n",
    "circuit_drawer(qc)"
   ]
  },
  {
   "cell_type": "markdown",
   "metadata": {},
   "source": [
    "## Exemplo Real:"
   ]
  },
  {
   "cell_type": "markdown",
   "metadata": {},
   "source": [
    "Primeiro, verificamos quais os computadores que estão disponíveis:"
   ]
  },
  {
   "cell_type": "code",
   "execution_count": 60,
   "metadata": {},
   "outputs": [
    {
     "name": "stdout",
     "output_type": "stream",
     "text": [
      "Backends disponíveis:\n"
     ]
    },
    {
     "data": {
      "text/plain": [
       "[<IBMQBackend('ibmqx4') from IBMQ()>,\n",
       " <IBMQBackend('ibmqx5') from IBMQ()>,\n",
       " <IBMQBackend('ibmqx2') from IBMQ()>,\n",
       " <IBMQBackend('ibmq_16_melbourne') from IBMQ()>,\n",
       " <IBMQBackend('ibmq_qasm_simulator') from IBMQ()>]"
      ]
     },
     "execution_count": 60,
     "metadata": {},
     "output_type": "execute_result"
    }
   ],
   "source": [
    "from qiskit import IBMQ\n",
    "#IBMQ.save_account('SEU TOKEN AQUI')\n",
    "#IBMQ.load_accounts()\n",
    "print(\"Backends disponíveis:\")\n",
    "IBMQ.backends()"
   ]
  },
  {
   "cell_type": "markdown",
   "metadata": {},
   "source": [
    "O tempo de espera de uma simulação em um computador quântico real pode ser desconfortavelmente grande. A fila para acessar um deles pode estar imensa em dado momento. Uma opção de minimizar o tempo de espera é importarmos a função 'least_busy', que verifica qual dos backends atuais estão menos ocupados."
   ]
  },
  {
   "cell_type": "code",
   "execution_count": 70,
   "metadata": {},
   "outputs": [
    {
     "name": "stdout",
     "output_type": "stream",
     "text": [
      "O melhor é ibmqx4\n"
     ]
    }
   ],
   "source": [
    "from qiskit.backends.ibmq import least_busy\n",
    "\n",
    "dispositivo = IBMQ.backends(filters = lambda x: x.configuration()['n_qubits'] > 3 and not x.configuration()['simulator'])\n",
    "\n",
    "backend = least_busy(dispositivo)\n",
    "\n",
    "print(\"O melhor é \" + backend.name())"
   ]
  },
  {
   "cell_type": "markdown",
   "metadata": {},
   "source": [
    "Sabendo qual deles está menos ocupado no momento, salvamos essa informação em uma variável - aqui a nomeamos $backend$ - para, enfim, rodarmos nossa simulação em um computador quântico real."
   ]
  },
  {
   "cell_type": "code",
   "execution_count": 69,
   "metadata": {},
   "outputs": [
    {
     "data": {
      "image/png": "[encoded data removed]",
      "text/plain": [
       "<Figure size 432x288 with 1 Axes>"
      ]
     },
     "metadata": {},
     "output_type": "display_data"
    }
   ],
   "source": [
    "shots = 1000\n",
    "creditos = 3\n",
    "tarefa = execute(qc, backend = backend, shots = shots, max_credits = creditos)\n",
    "\n",
    "resultado = tarefa.result()\n",
    "contador = resultado.get_counts(qc)\n",
    "\n",
    "plot_histogram(contador)"
   ]
  },
  {
   "cell_type": "markdown",
   "metadata": {},
   "source": [
    "## Conclusão:"
   ]
  },
  {
   "cell_type": "markdown",
   "metadata": {},
   "source": [
    "Se fizermos a medição e obtivermos apenas um vetor de $|0\\rangle$, significa que a função é constante. Caso contrário, será balanceada.\n",
    "\n",
    "<br>"
   ]
  }
 ],
 "metadata": {
  "kernelspec": {
   "display_name": "Python 3",
   "language": "python",
   "name": "python3"
  },
  "language_info": {
   "codemirror_mode": {
    "name": "ipython",
    "version": 3
   },
   "file_extension": ".py",
   "mimetype": "text/x-python",
   "name": "python",
   "nbconvert_exporter": "python",
   "pygments_lexer": "ipython3",
   "version": "3.6.5"
  }
 },
 "nbformat": 4,
 "nbformat_minor": 1
}
